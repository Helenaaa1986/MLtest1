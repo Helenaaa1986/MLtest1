{
 "cells": [
  {
   "cell_type": "code",
   "execution_count": 54,
   "metadata": {},
   "outputs": [],
   "source": [
    "import pandas as pd\n",
    "import numpy as np\n",
    "from sklearn.linear_model import LinearRegression\n",
    "from sklearn.model_selection import train_test_split\n",
    "from sklearn.metrics import r2_score\n"
   ]
  },
  {
   "cell_type": "code",
   "execution_count": null,
   "metadata": {},
   "outputs": [],
   "source": []
  },
  {
   "cell_type": "code",
   "execution_count": 5,
   "metadata": {},
   "outputs": [],
   "source": [
    "df=pd.read_csv('IceCreamData.csv')"
   ]
  },
  {
   "cell_type": "code",
   "execution_count": 6,
   "metadata": {},
   "outputs": [
    {
     "data": {
      "text/html": [
       "<div>\n",
       "<style scoped>\n",
       "    .dataframe tbody tr th:only-of-type {\n",
       "        vertical-align: middle;\n",
       "    }\n",
       "\n",
       "    .dataframe tbody tr th {\n",
       "        vertical-align: top;\n",
       "    }\n",
       "\n",
       "    .dataframe thead th {\n",
       "        text-align: right;\n",
       "    }\n",
       "</style>\n",
       "<table border=\"1\" class=\"dataframe\">\n",
       "  <thead>\n",
       "    <tr style=\"text-align: right;\">\n",
       "      <th></th>\n",
       "      <th>Temperature</th>\n",
       "      <th>Revenue</th>\n",
       "    </tr>\n",
       "  </thead>\n",
       "  <tbody>\n",
       "    <tr>\n",
       "      <th>0</th>\n",
       "      <td>24.566884</td>\n",
       "      <td>534.799028</td>\n",
       "    </tr>\n",
       "    <tr>\n",
       "      <th>1</th>\n",
       "      <td>26.005191</td>\n",
       "      <td>625.190122</td>\n",
       "    </tr>\n",
       "    <tr>\n",
       "      <th>2</th>\n",
       "      <td>27.790554</td>\n",
       "      <td>660.632289</td>\n",
       "    </tr>\n",
       "    <tr>\n",
       "      <th>3</th>\n",
       "      <td>20.595335</td>\n",
       "      <td>487.706960</td>\n",
       "    </tr>\n",
       "    <tr>\n",
       "      <th>4</th>\n",
       "      <td>11.503498</td>\n",
       "      <td>316.240194</td>\n",
       "    </tr>\n",
       "  </tbody>\n",
       "</table>\n",
       "</div>"
      ],
      "text/plain": [
       "   Temperature     Revenue\n",
       "0    24.566884  534.799028\n",
       "1    26.005191  625.190122\n",
       "2    27.790554  660.632289\n",
       "3    20.595335  487.706960\n",
       "4    11.503498  316.240194"
      ]
     },
     "execution_count": 6,
     "metadata": {},
     "output_type": "execute_result"
    }
   ],
   "source": [
    "df.head()"
   ]
  },
  {
   "cell_type": "code",
   "execution_count": 7,
   "metadata": {},
   "outputs": [],
   "source": [
    "x=df['Temperature']\n",
    "y=df['Revenue']"
   ]
  },
  {
   "cell_type": "code",
   "execution_count": 39,
   "metadata": {},
   "outputs": [],
   "source": [
    "x_train,x_test,y_train,y_test=train_test_split(x,y,test_size=0.5)"
   ]
  },
  {
   "cell_type": "code",
   "execution_count": 40,
   "metadata": {},
   "outputs": [
    {
     "data": {
      "text/plain": [
       "250"
      ]
     },
     "execution_count": 40,
     "metadata": {},
     "output_type": "execute_result"
    }
   ],
   "source": [
    "len(x_train)"
   ]
  },
  {
   "cell_type": "code",
   "execution_count": 41,
   "metadata": {},
   "outputs": [
    {
     "data": {
      "text/plain": [
       "250"
      ]
     },
     "execution_count": 41,
     "metadata": {},
     "output_type": "execute_result"
    }
   ],
   "source": [
    "len(x_test)"
   ]
  },
  {
   "cell_type": "code",
   "execution_count": 42,
   "metadata": {},
   "outputs": [],
   "source": [
    "model=LinearRegression()"
   ]
  },
  {
   "cell_type": "code",
   "execution_count": 43,
   "metadata": {},
   "outputs": [
    {
     "data": {
      "text/plain": [
       "1"
      ]
     },
     "execution_count": 43,
     "metadata": {},
     "output_type": "execute_result"
    }
   ],
   "source": [
    "x_train.ndim"
   ]
  },
  {
   "cell_type": "code",
   "execution_count": 44,
   "metadata": {},
   "outputs": [
    {
     "data": {
      "text/plain": [
       "2"
      ]
     },
     "execution_count": 44,
     "metadata": {},
     "output_type": "execute_result"
    }
   ],
   "source": [
    "np.array([x_train]).ndim"
   ]
  },
  {
   "cell_type": "code",
   "execution_count": 45,
   "metadata": {},
   "outputs": [
    {
     "data": {
      "text/html": [
       "<style>#sk-container-id-2 {color: black;background-color: white;}#sk-container-id-2 pre{padding: 0;}#sk-container-id-2 div.sk-toggleable {background-color: white;}#sk-container-id-2 label.sk-toggleable__label {cursor: pointer;display: block;width: 100%;margin-bottom: 0;padding: 0.3em;box-sizing: border-box;text-align: center;}#sk-container-id-2 label.sk-toggleable__label-arrow:before {content: \"▸\";float: left;margin-right: 0.25em;color: #696969;}#sk-container-id-2 label.sk-toggleable__label-arrow:hover:before {color: black;}#sk-container-id-2 div.sk-estimator:hover label.sk-toggleable__label-arrow:before {color: black;}#sk-container-id-2 div.sk-toggleable__content {max-height: 0;max-width: 0;overflow: hidden;text-align: left;background-color: #f0f8ff;}#sk-container-id-2 div.sk-toggleable__content pre {margin: 0.2em;color: black;border-radius: 0.25em;background-color: #f0f8ff;}#sk-container-id-2 input.sk-toggleable__control:checked~div.sk-toggleable__content {max-height: 200px;max-width: 100%;overflow: auto;}#sk-container-id-2 input.sk-toggleable__control:checked~label.sk-toggleable__label-arrow:before {content: \"▾\";}#sk-container-id-2 div.sk-estimator input.sk-toggleable__control:checked~label.sk-toggleable__label {background-color: #d4ebff;}#sk-container-id-2 div.sk-label input.sk-toggleable__control:checked~label.sk-toggleable__label {background-color: #d4ebff;}#sk-container-id-2 input.sk-hidden--visually {border: 0;clip: rect(1px 1px 1px 1px);clip: rect(1px, 1px, 1px, 1px);height: 1px;margin: -1px;overflow: hidden;padding: 0;position: absolute;width: 1px;}#sk-container-id-2 div.sk-estimator {font-family: monospace;background-color: #f0f8ff;border: 1px dotted black;border-radius: 0.25em;box-sizing: border-box;margin-bottom: 0.5em;}#sk-container-id-2 div.sk-estimator:hover {background-color: #d4ebff;}#sk-container-id-2 div.sk-parallel-item::after {content: \"\";width: 100%;border-bottom: 1px solid gray;flex-grow: 1;}#sk-container-id-2 div.sk-label:hover label.sk-toggleable__label {background-color: #d4ebff;}#sk-container-id-2 div.sk-serial::before {content: \"\";position: absolute;border-left: 1px solid gray;box-sizing: border-box;top: 0;bottom: 0;left: 50%;z-index: 0;}#sk-container-id-2 div.sk-serial {display: flex;flex-direction: column;align-items: center;background-color: white;padding-right: 0.2em;padding-left: 0.2em;position: relative;}#sk-container-id-2 div.sk-item {position: relative;z-index: 1;}#sk-container-id-2 div.sk-parallel {display: flex;align-items: stretch;justify-content: center;background-color: white;position: relative;}#sk-container-id-2 div.sk-item::before, #sk-container-id-2 div.sk-parallel-item::before {content: \"\";position: absolute;border-left: 1px solid gray;box-sizing: border-box;top: 0;bottom: 0;left: 50%;z-index: -1;}#sk-container-id-2 div.sk-parallel-item {display: flex;flex-direction: column;z-index: 1;position: relative;background-color: white;}#sk-container-id-2 div.sk-parallel-item:first-child::after {align-self: flex-end;width: 50%;}#sk-container-id-2 div.sk-parallel-item:last-child::after {align-self: flex-start;width: 50%;}#sk-container-id-2 div.sk-parallel-item:only-child::after {width: 0;}#sk-container-id-2 div.sk-dashed-wrapped {border: 1px dashed gray;margin: 0 0.4em 0.5em 0.4em;box-sizing: border-box;padding-bottom: 0.4em;background-color: white;}#sk-container-id-2 div.sk-label label {font-family: monospace;font-weight: bold;display: inline-block;line-height: 1.2em;}#sk-container-id-2 div.sk-label-container {text-align: center;}#sk-container-id-2 div.sk-container {/* jupyter's `normalize.less` sets `[hidden] { display: none; }` but bootstrap.min.css set `[hidden] { display: none !important; }` so we also need the `!important` here to be able to override the default hidden behavior on the sphinx rendered scikit-learn.org. See: https://github.com/scikit-learn/scikit-learn/issues/21755 */display: inline-block !important;position: relative;}#sk-container-id-2 div.sk-text-repr-fallback {display: none;}</style><div id=\"sk-container-id-2\" class=\"sk-top-container\"><div class=\"sk-text-repr-fallback\"><pre>LinearRegression()</pre><b>In a Jupyter environment, please rerun this cell to show the HTML representation or trust the notebook. <br />On GitHub, the HTML representation is unable to render, please try loading this page with nbviewer.org.</b></div><div class=\"sk-container\" hidden><div class=\"sk-item\"><div class=\"sk-estimator sk-toggleable\"><input class=\"sk-toggleable__control sk-hidden--visually\" id=\"sk-estimator-id-2\" type=\"checkbox\" checked><label for=\"sk-estimator-id-2\" class=\"sk-toggleable__label sk-toggleable__label-arrow\">LinearRegression</label><div class=\"sk-toggleable__content\"><pre>LinearRegression()</pre></div></div></div></div></div>"
      ],
      "text/plain": [
       "LinearRegression()"
      ]
     },
     "execution_count": 45,
     "metadata": {},
     "output_type": "execute_result"
    }
   ],
   "source": [
    "model.fit(np.array(x_train).reshape(-1, 1), y_train)\n"
   ]
  },
  {
   "cell_type": "code",
   "execution_count": 46,
   "metadata": {},
   "outputs": [],
   "source": [
    "y_pred=model.predict(np.array(x_train).reshape(-1,1))"
   ]
  },
  {
   "cell_type": "code",
   "execution_count": 47,
   "metadata": {},
   "outputs": [
    {
     "data": {
      "text/plain": [
       "array([719.51798351, 675.86181691, 524.65014273, 737.99289757,\n",
       "       610.38050066, 590.12532252, 573.13185424, 160.45067413,\n",
       "       591.76697209, 705.8853204 , 283.23608202, 627.89670631,\n",
       "       721.84482054, 510.04909523, 635.45803888, 688.64707758,\n",
       "       473.74402466, 431.26005862, 612.22682771, 636.12122161,\n",
       "       581.12799255, 514.70290235, 585.17228719, 626.60479712,\n",
       "       476.88205296, 621.15929232, 562.11398145, 391.65696476,\n",
       "       353.96750344, 322.2559838 , 662.15989509, 510.14597825,\n",
       "       510.41033559, 547.1162282 , 606.49169002, 485.05615642,\n",
       "       332.15124186, 423.55679771, 626.6322488 , 582.28111628,\n",
       "       522.2185063 , 292.34224061, 692.9235185 , 955.78688586,\n",
       "       840.51524395, 575.24001336, 520.16153388, 733.12103808,\n",
       "       702.30431198, 567.15226313, 453.98556556, 461.98625872,\n",
       "       456.3978419 , 458.67894025, 465.93563103, 522.98462978,\n",
       "       245.40206844, 546.52998115, 486.84672588, 451.70149055,\n",
       "       372.08991694, 348.09669858, 639.29768941, 447.94287895,\n",
       "       655.08815075, 476.33331416, 442.15388125, 233.55463242,\n",
       "       444.88541528, 417.64786356, 486.01974742, 704.36115839,\n",
       "       663.00830195, 671.822192  , 802.70664072, 689.86611538,\n",
       "       318.04031314, 150.34150029, 265.42004529, 669.41278899,\n",
       "       655.20346411, 591.70151626, 234.38360179, 424.01815618,\n",
       "       891.56148563, 231.04138833, 310.4962469 , 388.98603754,\n",
       "       530.43863084, 681.71512353, 507.06605547, 521.71326737,\n",
       "       463.30142393, 718.26443061, 365.6786771 , 182.14448823,\n",
       "       939.76990189, 530.8698932 , 554.58009949, 479.40208525,\n",
       "       294.30197594, 859.1608903 , 443.69180471, 412.77154549,\n",
       "       496.06859168, 665.74615856, 689.77839661, 312.86782974,\n",
       "       444.21874394, 558.91103751, 450.75949995, 309.41660939,\n",
       "       238.60786402, 258.04439432, 526.48208471, 466.03796443,\n",
       "       599.60247574, 470.88530056, 456.88788302, 651.64697221,\n",
       "       590.66642006, 183.0296419 , 583.56020275, 453.24373953,\n",
       "       394.95797028, 540.16588382, 411.86980019, 592.7570925 ,\n",
       "       379.72457187, 700.08081298, 804.52048589, 828.57873435,\n",
       "       514.81172327, 626.38253819, 124.64377122, 898.96873909,\n",
       "       351.38869195, 519.4366644 , 695.11051475, 282.83503   ,\n",
       "       639.42517706, 663.77482142, 530.14636979, 564.88475809,\n",
       "       353.87366126, 211.94165758, 357.54293954, 545.75746193,\n",
       "       419.66802601, 548.93432336, 308.6522147 , 588.21004355,\n",
       "       468.86293802, 625.33143979, 547.37507397, 424.69267244,\n",
       "       229.94759654, 725.223478  , 873.48515972, 636.67971341,\n",
       "       634.91646128, 394.0721968 , 559.35519148, 654.59661488,\n",
       "       589.21589596, 673.32529935, 539.80117283, 642.84193749,\n",
       "       590.87171816, 757.5911118 , 808.46495742, 361.57212216,\n",
       "       186.21039413, 655.77745813, 712.86051204, 576.34220818,\n",
       "       534.9096914 , 799.65765523, 508.56753864, 468.14889783,\n",
       "       397.22343589, 602.581448  , 651.07095587, 268.80799707,\n",
       "       522.77816168, 353.29212481, 622.66830487, 475.18418199,\n",
       "       171.57608473, 635.18572837, 304.77397129, 774.93626062,\n",
       "       416.33157306, 797.58060776, 676.57223778, 493.37681368,\n",
       "       837.73440475, 563.61880112, 630.55577201, 494.88671192,\n",
       "       469.30022624, 671.13681285, 494.3895449 , 415.53953458,\n",
       "       723.75899861, 623.09819463, 550.63682769, 686.31737685,\n",
       "       802.0958102 , 596.59729112, 795.72591292, 470.20710314,\n",
       "       797.0381618 , 525.41120776, 454.14183512, 443.12531653,\n",
       "       315.19063948, 218.10008531, 693.33308548, 758.96239508,\n",
       "       804.81122052, 748.05255422, 203.17380353, 682.02175747,\n",
       "       304.30062166, 531.41380268, 749.93644022, 572.84576516,\n",
       "       697.81479713, 308.76094427, 613.813526  , 400.42862271,\n",
       "       239.18762536, 493.29219095, 714.33575739,  51.95696931,\n",
       "       631.89477065, 317.691857  , 176.61298801, 643.78831864,\n",
       "       498.26627217, 378.29337213, 520.02736297, 528.16607056,\n",
       "       131.52928448, 307.01634518, 600.86955222, 862.32063986,\n",
       "       240.36378695, 538.36510269])"
      ]
     },
     "execution_count": 47,
     "metadata": {},
     "output_type": "execute_result"
    }
   ],
   "source": [
    "y_pred"
   ]
  },
  {
   "cell_type": "code",
   "execution_count": 48,
   "metadata": {},
   "outputs": [
    {
     "data": {
      "text/plain": [
       "490    584.399945\n",
       "126    382.073954\n",
       "150    531.742485\n",
       "348    856.303304\n",
       "166    570.577875\n",
       "          ...    \n",
       "138    507.356810\n",
       "85     406.579249\n",
       "454    756.962562\n",
       "482    448.325981\n",
       "402     10.000000\n",
       "Name: Revenue, Length: 250, dtype: float64"
      ]
     },
     "execution_count": 48,
     "metadata": {},
     "output_type": "execute_result"
    }
   ],
   "source": [
    "y_test"
   ]
  },
  {
   "cell_type": "code",
   "execution_count": 49,
   "metadata": {},
   "outputs": [
    {
     "data": {
      "text/plain": [
       "-0.9011728753922676"
      ]
     },
     "execution_count": 49,
     "metadata": {},
     "output_type": "execute_result"
    }
   ],
   "source": [
    "r2_score(y_test,y_pred)"
   ]
  },
  {
   "cell_type": "code",
   "execution_count": 51,
   "metadata": {},
   "outputs": [],
   "source": [
    "import pickle"
   ]
  },
  {
   "cell_type": "code",
   "execution_count": 52,
   "metadata": {},
   "outputs": [],
   "source": [
    "with open('model.pkl','wb') as files:\n",
    "    pickle.dump(model,files)\n",
    "\n",
    "   "
   ]
  },
  {
   "cell_type": "code",
   "execution_count": null,
   "metadata": {},
   "outputs": [],
   "source": []
  },
  {
   "attachments": {},
   "cell_type": "markdown",
   "metadata": {},
   "source": [
    "https://www.youtube.com/watch?v=EJkgmPuhxqw&list=PL7zl8TDRnbul5hHLjQO9x1QN6MV-5jAdl&index=6"
   ]
  }
 ],
 "metadata": {
  "kernelspec": {
   "display_name": "Python 3",
   "language": "python",
   "name": "python3"
  },
  "language_info": {
   "codemirror_mode": {
    "name": "ipython",
    "version": 3
   },
   "file_extension": ".py",
   "mimetype": "text/x-python",
   "name": "python",
   "nbconvert_exporter": "python",
   "pygments_lexer": "ipython3",
   "version": "3.11.1"
  },
  "orig_nbformat": 4
 },
 "nbformat": 4,
 "nbformat_minor": 2
}
